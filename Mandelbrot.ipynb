{
 "cells": [
  {
   "attachments": {},
   "cell_type": "markdown",
   "metadata": {},
   "source": [
    "# Numerical Scientific Computing Miniproject 1"
   ]
  },
  {
   "attachments": {},
   "cell_type": "markdown",
   "metadata": {},
   "source": [
    "### Setting up packages and parameters"
   ]
  },
  {
   "cell_type": "code",
   "execution_count": 132,
   "metadata": {},
   "outputs": [],
   "source": [
    "import timeit\n",
    "from numba import jit\n",
    "import dask.array as desk\n",
    "import multiprocessing as mp\n",
    "import numpy as numerinopyndarino\n",
    "import matplotlib.pyplot as ploterino"
   ]
  },
  {
   "cell_type": "code",
   "execution_count": 133,
   "metadata": {},
   "outputs": [],
   "source": [
    "#Parameters\n",
    "pim = 500\n",
    "pre = 500\n",
    "I = 100\n",
    "T = 2"
   ]
  },
  {
   "attachments": {},
   "cell_type": "markdown",
   "metadata": {},
   "source": [
    "### Declare different datatypes for testing\n",
    "\n",
    "The three types are\n",
    "\n",
    "csingle     | float complex       | Complex number, represented by two single-precision floats (real and imaginary components).\n",
    "\n",
    "cdouble     | double complex      | Complex number, represented by two double-precision floats (real and imaginary components).\n",
    "\n",
    "clongdouble | long double complex | Complex number, represented by two extended-precision floats (real and imaginary components).\n",
    "\n",
    "The main difference between them is that in float we can store values up to 4 bytes (6 places after decimal point). Double up to 8 bytes, and long double even more than float and double."
   ]
  },
  {
   "cell_type": "code",
   "execution_count": 54,
   "metadata": {},
   "outputs": [
    {
     "name": "stdout",
     "output_type": "stream",
     "text": [
      "[<class 'numpy.complex64'>, <class 'numpy.complex128'>, <class 'numpy.complex256'>]\n"
     ]
    }
   ],
   "source": [
    "\n",
    "dtypes = [numerinopyndarino.csingle, numerinopyndarino.cdouble, numerinopyndarino.clongdouble]\n",
    "print(dtypes)"
   ]
  },
  {
   "attachments": {},
   "cell_type": "markdown",
   "metadata": {},
   "source": [
    "### Generate the complex matrix C\n",
    "\n",
    "A function is declared that generates the complex matrix C with a given dataype."
   ]
  },
  {
   "cell_type": "code",
   "execution_count": 111,
   "metadata": {},
   "outputs": [],
   "source": [
    "def generate_complex_c(pim, pre, dtype):\n",
    "    C = numerinopyndarino.zeros((pim, pre), dtype=dtype) #Generate the C matrix with the given dimesion pim x pre\n",
    "    re = numerinopyndarino.tile(numerinopyndarino.linspace(-2, 1, pim, dtype=dtype),(pim,1)) #Generate real numbers from -2 to 1, with pim intervals (Stored in a pim x pim matrix)\n",
    "    im = numerinopyndarino.tile(numerinopyndarino.linspace(1.5, -1.5, pre, dtype=dtype), (pre,1)).T #Generate imaginary numbers from -1.5 to 1.5 with pre intervals (Stored in a pre x pre matrix)\n",
    "    C = re + im*1j\n",
    "    return C"
   ]
  },
  {
   "attachments": {},
   "cell_type": "markdown",
   "metadata": {},
   "source": [
    "### Testing the speed of different datatypes\n",
    "\n",
    "This section tests the datatypes on the previously implemented methods: Naive and Vectorized.\n",
    "\n",
    "First, we declare a function for each method:"
   ]
  },
  {
   "cell_type": "code",
   "execution_count": 63,
   "metadata": {},
   "outputs": [],
   "source": [
    "#Naive\n",
    "def naive(C, I, T):\n",
    "    M = numerinopyndarino.zeros(C.shape) #Declare our output matrix M\n",
    "\n",
    "    for row in range(C.shape[0]):  #Loop through each complex number c in our C matrix\n",
    "        for col in range(C.shape[1]):\n",
    "\n",
    "            c = C[row, col]\n",
    "            z = 0 + 0j\n",
    "\n",
    "            for i in range(I-1): #Calculate I iterations of z with formula: z_(i+1) = z_i ^2 + c\n",
    "                \n",
    "                z = (z**2) + c\n",
    "\n",
    "                if (numerinopyndarino.abs(z) > T): #Calculate l(c) as the index where |z_i| > T\n",
    "                    lc = i\n",
    "                    break #Break out of the loop if already diverged!\n",
    "                else:\n",
    "                    lc = I\n",
    "\n",
    "            M[row, col] = lc/I #Store lc to the output matrix M. We divide by I to map from 0-1.\n",
    "    return M"
   ]
  },
  {
   "cell_type": "code",
   "execution_count": 64,
   "metadata": {},
   "outputs": [],
   "source": [
    "#Vectorized\n",
    "def vectorized(C, I, T, dtype):\n",
    "    M = numerinopyndarino.zeros(C.shape, dtype=int) #Declare our output matrix M\n",
    "\n",
    "    Z = numerinopyndarino.zeros(C.shape, dtype=dtype) #Declare Z as a matrix, where we calculate z = z²+c for each point in C\n",
    "\n",
    "    for i in range(I-1):\n",
    "        Z = Z*Z + C\n",
    "\n",
    "        M[numerinopyndarino.abs(Z) > T] = i\n",
    "\n",
    "    M[numerinopyndarino.abs(Z) <= T] = I\n",
    "\n",
    "    return M"
   ]
  },
  {
   "attachments": {},
   "cell_type": "markdown",
   "metadata": {},
   "source": [
    "Timeit is used to measure the time for each datatype"
   ]
  },
  {
   "cell_type": "code",
   "execution_count": 167,
   "metadata": {},
   "outputs": [
    {
     "name": "stdout",
     "output_type": "stream",
     "text": [
      "---------\n",
      "Naive Implementation with the datatype:  <class 'numpy.complex64'>\n",
      "Time:  64.68435700703412\n",
      "---------\n",
      "Naive Implementation with the datatype:  <class 'numpy.complex128'>\n",
      "Time:  60.704475726000965\n",
      "---------\n",
      "Naive Implementation with the datatype:  <class 'numpy.complex256'>\n",
      "Time:  61.20647003711201\n",
      "---------\n",
      "Vectorized Implementation with the datatype:  <class 'numpy.complex64'>\n"
     ]
    },
    {
     "name": "stderr",
     "output_type": "stream",
     "text": [
      "/tmp/ipykernel_1309251/4180854526.py:8: RuntimeWarning: overflow encountered in multiply\n",
      "  Z = Z*Z + C\n",
      "/tmp/ipykernel_1309251/4180854526.py:8: RuntimeWarning: invalid value encountered in multiply\n",
      "  Z = Z*Z + C\n",
      "/tmp/ipykernel_1309251/4180854526.py:10: RuntimeWarning: overflow encountered in absolute\n",
      "  M[numerinopyndarino.abs(Z) > T] = i\n"
     ]
    },
    {
     "name": "stdout",
     "output_type": "stream",
     "text": [
      "Time:  2.998754322063178\n",
      "----------\n",
      "Vectorized Implementation with the datatype:  <class 'numpy.complex128'>\n",
      "Time:  4.416382751893252\n",
      "----------\n",
      "Vectorized Implementation with the datatype:  <class 'numpy.complex256'>\n",
      "Time:  18.129121734993532\n",
      "----------\n"
     ]
    }
   ],
   "source": [
    "#The results are stored in these lists\n",
    "naive_results = []\n",
    "vectorized_results = []\n",
    "print(\"---------\")\n",
    "#NAIVE\n",
    "for dtype in dtypes: #Loop all the datatypes\n",
    "    C = generate_complex_c(pim, pre, dtype) #Generate the complex matrix with the given datatype\n",
    "    #NAIVE\n",
    "    print(\"Naive Implementation with the datatype: \", dtype)\n",
    "    naive_result = timeit.Timer(lambda: naive(C, I, T)).timeit(5) #Calculate the time for the naive implementation\n",
    "    naive_results.append(naive_result)\n",
    "    print(\"Time: \", naive_result)\n",
    "\n",
    "    print(\"---------\")\n",
    "\n",
    "#VECTORIZED\n",
    "for dtype in dtypes: #Loop all the datatypes\n",
    "    C = generate_complex_c(pim, pre, dtype) #Generate the complex matrix with the given datatype\n",
    "    #VECTORIZED\n",
    "    print(\"Vectorized Implementation with the datatype: \", dtype)\n",
    "    vectorized_result = timeit.Timer(lambda: vectorized(C, I, T, dtype)).timeit(5) #Calculate the time for the vectorized implementation\n",
    "    vectorized_results.append(vectorized_result)\n",
    "    print(\"Time: \", vectorized_result)   \n",
    "\n",
    "    print(\"----------\")"
   ]
  },
  {
   "attachments": {},
   "cell_type": "markdown",
   "metadata": {},
   "source": [
    "### Plot the processing times\n",
    "\n",
    "The times are plotted using matplotlib"
   ]
  },
  {
   "cell_type": "code",
   "execution_count": 168,
   "metadata": {},
   "outputs": [
    {
     "data": {
      "image/png": "[encoded data removed]",
      "text/plain": [
       "<Figure size 1000x500 with 2 Axes>"
      ]
     },
     "metadata": {},
     "output_type": "display_data"
    }
   ],
   "source": [
    "fig = ploterino.figure(figsize=(10, 5))\n",
    "ax = fig.subplots(1, 2)\n",
    "\n",
    "ax[0].bar(['complex64', 'complex128', 'complex256'], naive_results)\n",
    "ax[0].set_title('Naive')\n",
    "ax[0].set_ylabel('Time (ms)')\n",
    "ax[0].set_xlabel('Datatype')\n",
    "\n",
    "ax[1].bar(['complex64', 'complex128', 'complex256'], vectorized_results)\n",
    "ax[1].set_title('Vectorized')\n",
    "ax[1].set_ylabel('Time (ms)')\n",
    "ax[1].set_xlabel('Datatype')\n",
    "ax[1].set_ylim(0, max(naive_results))\n",
    "\n",
    "fig.tight_layout()\n",
    "\n",
    "ploterino.show()\n"
   ]
  },
  {
   "attachments": {},
   "cell_type": "markdown",
   "metadata": {},
   "source": [
    "The naive method improves slightly when the datatype has more bytes to store the precision.\n",
    "\n",
    "The vectorized method is the complete opposite, and gets worse with an increase in the amount of bytes."
   ]
  },
  {
   "attachments": {},
   "cell_type": "markdown",
   "metadata": {},
   "source": [
    "#### Time for some dask!\n",
    "\n",
    "We define a function to use the naive implementation with dask."
   ]
  },
  {
   "cell_type": "code",
   "execution_count": 212,
   "metadata": {},
   "outputs": [
    {
     "name": "stdout",
     "output_type": "stream",
     "text": [
      "Computing dask with chunk size:  (10, 10)\n",
      "Time:  1087.0107033881359\n",
      "---------\n",
      "Computing dask with chunk size:  (50, 50)\n",
      "Time:  78.68405319005251\n",
      "---------\n",
      "Computing dask with chunk size:  (100, 100)\n",
      "Time:  77.0703486839775\n",
      "---------\n",
      "Computing dask with chunk size:  (250, 250)\n",
      "Time:  56.84476254018955\n",
      "---------\n",
      "Computing dask with chunk size:  (500, 500)\n",
      "Time:  52.90506706782617\n",
      "---------\n"
     ]
    }
   ],
   "source": [
    "#Generate the C matrix and convert it to a dask array\n",
    "C = generate_complex_c(pim, pre, dtypes[0])\n",
    "\n",
    "#List of chunk sizes to test\n",
    "chunks = [(10, 10), (50, 50), (100, 100), (250, 250), (500, 500)]\n",
    "\n",
    "#Define a function for the dask method so we can time it\n",
    "def func(x):\n",
    "    out = desk.map_blocks(lambda x: naive(x, I, T), x)\n",
    "    return out.compute()\n",
    "\n",
    "dask_results = []\n",
    "for c in chunks:\n",
    "    print(\"Computing dask with chunk size: \", c)\n",
    "    #Create dask array from numpy array using a given chunk size.\n",
    "    C_dask = desk.from_array(C, chunks=c)\n",
    "\n",
    "    #Run the vectorized function using dask\n",
    "    dask_result = timeit.Timer(lambda: func(C_dask)).timeit(5)\n",
    "    \n",
    "    #Append results\n",
    "    dask_results.append(dask_result)\n",
    "\n",
    "    print(\"Time: \", dask_result),\n",
    "    print('---------')"
   ]
  },
  {
   "attachments": {},
   "cell_type": "markdown",
   "metadata": {},
   "source": [
    "### Plot the processing times\n",
    "\n",
    "The times are plotted using matplotlib"
   ]
  },
  {
   "cell_type": "code",
   "execution_count": 216,
   "metadata": {},
   "outputs": [
    {
     "data": {
      "image/png": "[encoded data removed]",
      "text/plain": [
       "<Figure size 1000x500 with 2 Axes>"
      ]
     },
     "metadata": {},
     "output_type": "display_data"
    },
    {
     "name": "stdout",
     "output_type": "stream",
     "text": [
      "Best Dask:  52.90506706782617\n",
      "Vectorized:  2.998754322063178\n"
     ]
    }
   ],
   "source": [
    "fig = ploterino.figure(figsize=(10, 5))\n",
    "ax = fig.subplots(1, 2)\n",
    "\n",
    "ax[0].bar(['10x10', '50x50', '100x100', '250x250', '500x500'], dask_results)\n",
    "ax[0].set_title('Dask')\n",
    "ax[0].set_ylabel('Time (ms)')\n",
    "ax[0].set_xlabel('Chunk sizes')\n",
    "\n",
    "ax[1].bar(['Vectorized'], min(vectorized_results))\n",
    "ax[1].set_title('Vectorized')\n",
    "ax[1].set_ylabel('Time (ms)')\n",
    "ax[1].set_ylim(0, 500)\n",
    "\n",
    "fig.tight_layout()\n",
    "\n",
    "ploterino.show()\n",
    "\n",
    "print(\"Best Dask: \", min(dask_results))\n",
    "print(\"Vectorized: \", min(vectorized_results))\n"
   ]
  },
  {
   "attachments": {},
   "cell_type": "markdown",
   "metadata": {},
   "source": [
    "We can see that for the dask method it is better to have bigger chunk sizes.\n",
    "The vectorized method is much better than the best dask method - maybe chatGPT could have done it better than me :("
   ]
  }
 ],
 "metadata": {
  "kernelspec": {
   "display_name": "numerical",
   "language": "python",
   "name": "python3"
  },
  "language_info": {
   "codemirror_mode": {
    "name": "ipython",
    "version": 3
   },
   "file_extension": ".py",
   "mimetype": "text/x-python",
   "name": "python",
   "nbconvert_exporter": "python",
   "pygments_lexer": "ipython3",
   "version": "3.10.9"
  },
  "orig_nbformat": 4,
  "vscode": {
   "interpreter": {
    "hash": "dbcb2b7ee5c9649f04311cc74c224c7fb73eac50caeabb9c531304aece8d76cd"
   }
  }
 },
 "nbformat": 4,
 "nbformat_minor": 2
}
