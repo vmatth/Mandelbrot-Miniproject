{
 "cells": [
  {
   "cell_type": "code",
   "execution_count": null,
   "metadata": {},
   "outputs": [],
   "source": [
    "import numpy as numerinopyndarino\n",
    "import matplotlib.pyplot as ploterino\n",
    "from numba import jit"
   ]
  },
  {
   "attachments": {},
   "cell_type": "markdown",
   "metadata": {},
   "source": [
    "Setting up the Parameters"
   ]
  },
  {
   "cell_type": "code",
   "execution_count": null,
   "metadata": {},
   "outputs": [],
   "source": [
    "#Parameters\n",
    "pim = 5\n",
    "pre = 5\n",
    "I = 10\n",
    "T = 2"
   ]
  },
  {
   "attachments": {},
   "cell_type": "markdown",
   "metadata": {},
   "source": [
    "Defining a function to generate the complex matrix C"
   ]
  },
  {
   "cell_type": "code",
   "execution_count": null,
   "metadata": {},
   "outputs": [],
   "source": [
    "#Function for generating the complex matrix C\n",
    "def generate_C_complex_matrix(pim, pre):\n",
    "    C = numerinopyndarino.zeros((pim, pre), dtype=complex) #Generate the C matrix with the given dimesion pim x pre\n",
    "    re = numerinopyndarino.tile(numerinopyndarino.linspace(-2, 1, pim),(pim,1)) #Generate real numbers from -2 to 1, with pim intervals (Stored in a pim x pim matrix)\n",
    "    im = numerinopyndarino.tile(numerinopyndarino.linspace(1.5, -1.5, pre), (pre,1)).T #Generate imaginary numbers from -1.5 to 1.5 with pre intervals (Stored in a pre x pre matrix)\n",
    "    C = re + im*1j\n",
    "    return C"
   ]
  }
 ],
 "metadata": {
  "kernelspec": {
   "display_name": "base",
   "language": "python",
   "name": "python3"
  },
  "language_info": {
   "name": "python",
   "version": "3.7.1"
  },
  "orig_nbformat": 4,
  "vscode": {
   "interpreter": {
    "hash": "5cb6068c239981bc3405e2a77dc2d7d502f01d6d7b26dd24f2c9000598a1a375"
   }
  }
 },
 "nbformat": 4,
 "nbformat_minor": 2
}
